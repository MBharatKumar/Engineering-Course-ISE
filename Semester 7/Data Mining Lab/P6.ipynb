{
 "cells": [
  {
   "cell_type": "code",
   "execution_count": 1,
   "metadata": {
    "executionInfo": {
     "elapsed": 884,
     "status": "ok",
     "timestamp": 1610532031827,
     "user": {
      "displayName": "Mahima MA",
      "photoUrl": "",
      "userId": "01786205943252803121"
     },
     "user_tz": -330
    },
    "id": "TqIYrp3nESWt"
   },
   "outputs": [],
   "source": [
    "from sklearn.ensemble import BaggingClassifier, AdaBoostClassifier\n",
    "from sklearn.model_selection import train_test_split\n",
    "from sklearn import metrics\n",
    "from sklearn.preprocessing import LabelEncoder\n",
    "import pandas as pd\n",
    "import numpy as np\n",
    "import matplotlib.pyplot as plt"
   ]
  },
  {
   "cell_type": "code",
   "execution_count": 2,
   "metadata": {},
   "outputs": [],
   "source": [
    "df = pd.read_csv('CustomerData.csv')"
   ]
  },
  {
   "cell_type": "code",
   "execution_count": 3,
   "metadata": {},
   "outputs": [
    {
     "data": {
      "text/html": [
       "<div>\n",
       "<style scoped>\n",
       "    .dataframe tbody tr th:only-of-type {\n",
       "        vertical-align: middle;\n",
       "    }\n",
       "\n",
       "    .dataframe tbody tr th {\n",
       "        vertical-align: top;\n",
       "    }\n",
       "\n",
       "    .dataframe thead th {\n",
       "        text-align: right;\n",
       "    }\n",
       "</style>\n",
       "<table border=\"1\" class=\"dataframe\">\n",
       "  <thead>\n",
       "    <tr style=\"text-align: right;\">\n",
       "      <th></th>\n",
       "      <th>CustID</th>\n",
       "      <th>Age</th>\n",
       "      <th>Gender</th>\n",
       "      <th>Country</th>\n",
       "      <th>Employed</th>\n",
       "      <th>Income</th>\n",
       "      <th>ItemsPurchased(monthly)</th>\n",
       "      <th>ProductType</th>\n",
       "      <th>PaymentType</th>\n",
       "      <th>Mode</th>\n",
       "    </tr>\n",
       "  </thead>\n",
       "  <tbody>\n",
       "    <tr>\n",
       "      <th>0</th>\n",
       "      <td>1</td>\n",
       "      <td>37.0</td>\n",
       "      <td>Male</td>\n",
       "      <td>USA</td>\n",
       "      <td>True</td>\n",
       "      <td>NaN</td>\n",
       "      <td>99.0</td>\n",
       "      <td>BabyCare</td>\n",
       "      <td>Cash</td>\n",
       "      <td>Offline</td>\n",
       "    </tr>\n",
       "    <tr>\n",
       "      <th>1</th>\n",
       "      <td>2</td>\n",
       "      <td>44.0</td>\n",
       "      <td>NaN</td>\n",
       "      <td>Russia</td>\n",
       "      <td>False</td>\n",
       "      <td>463034.0</td>\n",
       "      <td>21.0</td>\n",
       "      <td>BabyCare</td>\n",
       "      <td>Bank Transfer</td>\n",
       "      <td>NaN</td>\n",
       "    </tr>\n",
       "    <tr>\n",
       "      <th>2</th>\n",
       "      <td>3</td>\n",
       "      <td>900.0</td>\n",
       "      <td>Female</td>\n",
       "      <td>India</td>\n",
       "      <td>True</td>\n",
       "      <td>402865.0</td>\n",
       "      <td>31.0</td>\n",
       "      <td>Medical</td>\n",
       "      <td>UPI</td>\n",
       "      <td>Offline</td>\n",
       "    </tr>\n",
       "    <tr>\n",
       "      <th>3</th>\n",
       "      <td>4</td>\n",
       "      <td>46.0</td>\n",
       "      <td>NaN</td>\n",
       "      <td>USA</td>\n",
       "      <td>True</td>\n",
       "      <td>NaN</td>\n",
       "      <td>21.0</td>\n",
       "      <td>BabyCare</td>\n",
       "      <td>UPI</td>\n",
       "      <td>Offline</td>\n",
       "    </tr>\n",
       "    <tr>\n",
       "      <th>4</th>\n",
       "      <td>5</td>\n",
       "      <td>19.0</td>\n",
       "      <td>Female</td>\n",
       "      <td>Australia</td>\n",
       "      <td>True</td>\n",
       "      <td>221868.0</td>\n",
       "      <td>45.0</td>\n",
       "      <td>Medical</td>\n",
       "      <td>Bank Transfer</td>\n",
       "      <td>Online</td>\n",
       "    </tr>\n",
       "  </tbody>\n",
       "</table>\n",
       "</div>"
      ],
      "text/plain": [
       "   CustID    Age  Gender    Country Employed    Income  \\\n",
       "0       1   37.0    Male        USA     True       NaN   \n",
       "1       2   44.0     NaN     Russia    False  463034.0   \n",
       "2       3  900.0  Female      India     True  402865.0   \n",
       "3       4   46.0     NaN        USA     True       NaN   \n",
       "4       5   19.0  Female  Australia     True  221868.0   \n",
       "\n",
       "   ItemsPurchased(monthly) ProductType    PaymentType     Mode  \n",
       "0                     99.0    BabyCare           Cash  Offline  \n",
       "1                     21.0    BabyCare  Bank Transfer      NaN  \n",
       "2                     31.0     Medical            UPI  Offline  \n",
       "3                     21.0    BabyCare            UPI  Offline  \n",
       "4                     45.0     Medical  Bank Transfer   Online  "
      ]
     },
     "execution_count": 3,
     "metadata": {},
     "output_type": "execute_result"
    }
   ],
   "source": [
    "df.head()"
   ]
  },
  {
   "cell_type": "code",
   "execution_count": 4,
   "metadata": {},
   "outputs": [],
   "source": [
    "df.loc[df['Age'] > 100, 'Age'] = np.nan"
   ]
  },
  {
   "cell_type": "code",
   "execution_count": 5,
   "metadata": {},
   "outputs": [],
   "source": [
    "df['Age'] = df['Age'].fillna(int(df['Age'].mean()))\n",
    "df['Gender'] = df['Gender'].fillna(df['Gender'].mode()[0])\n",
    "df['Country'] = df['Country'].fillna(df['Country'].mode()[0])\n",
    "df['Employed'] = df['Employed'].fillna(df['Employed'].mode()[0])\n",
    "df['Income'] = df['Income'].fillna(df['Income'].mean())\n",
    "df['ItemsPurchased(monthly)'] = df['ItemsPurchased(monthly)'].fillna(int(df['ItemsPurchased(monthly)'].mean()))\n",
    "df['ProductType'] = df['ProductType'].fillna(df['ProductType'].mode()[0])\n",
    "df['PaymentType'] = df['PaymentType'].fillna(df['PaymentType'].mode()[0])\n",
    "df['Mode'] = df['Mode'].fillna(df['Mode'].mode()[0])"
   ]
  },
  {
   "cell_type": "code",
   "execution_count": 6,
   "metadata": {},
   "outputs": [],
   "source": [
    "df[['Gender', 'Country', 'Employed', 'ProductType', 'PaymentType', 'Mode']] = df[['Gender', 'Country', 'Employed', 'ProductType', 'PaymentType', 'Mode']].apply(LabelEncoder().fit_transform)"
   ]
  },
  {
   "cell_type": "code",
   "execution_count": 7,
   "metadata": {},
   "outputs": [
    {
     "data": {
      "text/html": [
       "<div>\n",
       "<style scoped>\n",
       "    .dataframe tbody tr th:only-of-type {\n",
       "        vertical-align: middle;\n",
       "    }\n",
       "\n",
       "    .dataframe tbody tr th {\n",
       "        vertical-align: top;\n",
       "    }\n",
       "\n",
       "    .dataframe thead th {\n",
       "        text-align: right;\n",
       "    }\n",
       "</style>\n",
       "<table border=\"1\" class=\"dataframe\">\n",
       "  <thead>\n",
       "    <tr style=\"text-align: right;\">\n",
       "      <th></th>\n",
       "      <th>CustID</th>\n",
       "      <th>Age</th>\n",
       "      <th>Gender</th>\n",
       "      <th>Country</th>\n",
       "      <th>Employed</th>\n",
       "      <th>Income</th>\n",
       "      <th>ItemsPurchased(monthly)</th>\n",
       "      <th>ProductType</th>\n",
       "      <th>PaymentType</th>\n",
       "      <th>Mode</th>\n",
       "    </tr>\n",
       "  </thead>\n",
       "  <tbody>\n",
       "    <tr>\n",
       "      <th>0</th>\n",
       "      <td>1</td>\n",
       "      <td>37.0</td>\n",
       "      <td>1</td>\n",
       "      <td>4</td>\n",
       "      <td>1</td>\n",
       "      <td>242613.630435</td>\n",
       "      <td>99.0</td>\n",
       "      <td>1</td>\n",
       "      <td>1</td>\n",
       "      <td>0</td>\n",
       "    </tr>\n",
       "    <tr>\n",
       "      <th>1</th>\n",
       "      <td>2</td>\n",
       "      <td>44.0</td>\n",
       "      <td>1</td>\n",
       "      <td>1</td>\n",
       "      <td>0</td>\n",
       "      <td>463034.000000</td>\n",
       "      <td>21.0</td>\n",
       "      <td>1</td>\n",
       "      <td>0</td>\n",
       "      <td>1</td>\n",
       "    </tr>\n",
       "    <tr>\n",
       "      <th>2</th>\n",
       "      <td>3</td>\n",
       "      <td>50.0</td>\n",
       "      <td>0</td>\n",
       "      <td>3</td>\n",
       "      <td>1</td>\n",
       "      <td>402865.000000</td>\n",
       "      <td>31.0</td>\n",
       "      <td>4</td>\n",
       "      <td>2</td>\n",
       "      <td>0</td>\n",
       "    </tr>\n",
       "    <tr>\n",
       "      <th>3</th>\n",
       "      <td>4</td>\n",
       "      <td>46.0</td>\n",
       "      <td>1</td>\n",
       "      <td>4</td>\n",
       "      <td>1</td>\n",
       "      <td>242613.630435</td>\n",
       "      <td>21.0</td>\n",
       "      <td>1</td>\n",
       "      <td>2</td>\n",
       "      <td>0</td>\n",
       "    </tr>\n",
       "    <tr>\n",
       "      <th>4</th>\n",
       "      <td>5</td>\n",
       "      <td>19.0</td>\n",
       "      <td>0</td>\n",
       "      <td>2</td>\n",
       "      <td>1</td>\n",
       "      <td>221868.000000</td>\n",
       "      <td>45.0</td>\n",
       "      <td>4</td>\n",
       "      <td>0</td>\n",
       "      <td>1</td>\n",
       "    </tr>\n",
       "  </tbody>\n",
       "</table>\n",
       "</div>"
      ],
      "text/plain": [
       "   CustID   Age  Gender  Country  Employed         Income  \\\n",
       "0       1  37.0       1        4         1  242613.630435   \n",
       "1       2  44.0       1        1         0  463034.000000   \n",
       "2       3  50.0       0        3         1  402865.000000   \n",
       "3       4  46.0       1        4         1  242613.630435   \n",
       "4       5  19.0       0        2         1  221868.000000   \n",
       "\n",
       "   ItemsPurchased(monthly)  ProductType  PaymentType  Mode  \n",
       "0                     99.0            1            1     0  \n",
       "1                     21.0            1            0     1  \n",
       "2                     31.0            4            2     0  \n",
       "3                     21.0            1            2     0  \n",
       "4                     45.0            4            0     1  "
      ]
     },
     "execution_count": 7,
     "metadata": {},
     "output_type": "execute_result"
    }
   ],
   "source": [
    "df.head()"
   ]
  },
  {
   "cell_type": "code",
   "execution_count": 8,
   "metadata": {},
   "outputs": [],
   "source": [
    "X = df[['Age','Gender','Income','ItemsPurchased(monthly)']]\n",
    "y = df['Mode']\n",
    "X_train, X_test, y_train, y_test = train_test_split(X, y, test_size=0.3, random_state=0)"
   ]
  },
  {
   "cell_type": "code",
   "execution_count": 9,
   "metadata": {
    "colab": {
     "base_uri": "https://localhost:8080/"
    },
    "executionInfo": {
     "elapsed": 1013,
     "status": "ok",
     "timestamp": 1610531494868,
     "user": {
      "displayName": "Mahima MA",
      "photoUrl": "",
      "userId": "01786205943252803121"
     },
     "user_tz": -330
    },
    "id": "Ubi1oxIxI1N9",
    "outputId": "81508b28-2e5b-478f-a5f7-c289c978e128"
   },
   "outputs": [
    {
     "name": "stdout",
     "output_type": "stream",
     "text": [
      "[[2 3 0]\n",
      " [2 8 0]\n",
      " [0 0 0]]\n",
      "              precision    recall  f1-score   support\n",
      "\n",
      "           0       0.50      0.40      0.44         5\n",
      "           1       0.73      0.80      0.76        10\n",
      "\n",
      "    accuracy                           0.67        15\n",
      "   macro avg       0.61      0.60      0.60        15\n",
      "weighted avg       0.65      0.67      0.66        15\n",
      "\n"
     ]
    }
   ],
   "source": [
    "bagging_classifier = BaggingClassifier(random_state=0).fit(X_train, y_train)\n",
    "y_pred_bag = bagging_classifier.predict(X_test)\n",
    "y_pred_prob_bag = bagging_classifier.predict_proba(X_test)\n",
    "\n",
    "print(metrics.confusion_matrix(y_test, y_pred_bag, labels=[0, 1, 2]))\n",
    "print(metrics.classification_report(y_test, y_pred_bag))"
   ]
  },
  {
   "cell_type": "code",
   "execution_count": 10,
   "metadata": {
    "colab": {
     "base_uri": "https://localhost:8080/"
    },
    "executionInfo": {
     "elapsed": 880,
     "status": "ok",
     "timestamp": 1610532095661,
     "user": {
      "displayName": "Mahima MA",
      "photoUrl": "",
      "userId": "01786205943252803121"
     },
     "user_tz": -330
    },
    "id": "_HqpsyxtKf81",
    "outputId": "9c96c765-a7c4-4a44-a253-a27dbd233190"
   },
   "outputs": [
    {
     "name": "stdout",
     "output_type": "stream",
     "text": [
      "[[1 4 0]\n",
      " [2 8 0]\n",
      " [0 0 0]]\n",
      "              precision    recall  f1-score   support\n",
      "\n",
      "           0       0.33      0.20      0.25         5\n",
      "           1       0.67      0.80      0.73        10\n",
      "\n",
      "    accuracy                           0.60        15\n",
      "   macro avg       0.50      0.50      0.49        15\n",
      "weighted avg       0.56      0.60      0.57        15\n",
      "\n"
     ]
    }
   ],
   "source": [
    "boosting_classifier = AdaBoostClassifier(random_state=0).fit(X_train, y_train)\n",
    "y_pred_boost = boosting_classifier.predict(X_test)\n",
    "y_pred_prob_boost = boosting_classifier.predict_proba(X_test)\n",
    "\n",
    "print(metrics.confusion_matrix(y_test, y_pred_boost, labels=[0, 1, 2]))\n",
    "print(metrics.classification_report(y_test, y_pred_boost))"
   ]
  },
  {
   "cell_type": "code",
   "execution_count": 11,
   "metadata": {},
   "outputs": [
    {
     "name": "stdout",
     "output_type": "stream",
     "text": [
      "Bagging method ROC-AUC score:  0.5900000000000001\n",
      "Boosting method ROC-AUC score:  0.6000000000000001\n"
     ]
    },
    {
     "data": {
      "image/png": "[encoded data removed]",
      "text/plain": [
       "<Figure size 432x288 with 1 Axes>"
      ]
     },
     "metadata": {
      "needs_background": "light"
     },
     "output_type": "display_data"
    }
   ],
   "source": [
    "fpr1, tpr1, thresh1 = metrics.roc_curve(y_test, y_pred_prob_bag[:,1], pos_label=1)\n",
    "fpr2, tpr2, thresh2 = metrics.roc_curve(y_test, y_pred_prob_boost[:,1], pos_label=1)\n",
    " \n",
    "random_probs = [0 for i in range(len(y_test))]\n",
    "p_fpr, p_tpr, _ = metrics.roc_curve(y_test, random_probs, pos_label=1)\n",
    "\n",
    "auc_score1 = metrics.roc_auc_score(y_test, y_pred_prob_bag[:,1])\n",
    "auc_score2 = metrics.roc_auc_score(y_test, y_pred_prob_boost[:,1])\n",
    "print('Bagging method ROC-AUC score: ', auc_score1)\n",
    "print('Boosting method ROC-AUC score: ', auc_score2)\n",
    "\n",
    "plt.plot(fpr1, tpr1, linestyle='--', color='orange', label='Bagging method')\n",
    "plt.plot(fpr2, tpr2, linestyle='--', color='green', label='Boosting method')\n",
    "plt.plot(p_fpr, p_tpr, linestyle='--', color='blue')\n",
    "\n",
    "plt.title('ROC curve')\n",
    "plt.xlabel('False Positive Rate')\n",
    "plt.ylabel('True Positive rate')\n",
    "plt.legend(loc='best')\n",
    "plt.show()"
   ]
  }
 ],
 "metadata": {
  "colab": {
   "authorship_tag": "ABX9TyPO5MtN3OUe6kjywS/3TKkS",
   "name": "P6.ipynb",
   "provenance": []
  },
  "kernelspec": {
   "display_name": "Python 3",
   "language": "python",
   "name": "python3"
  },
  "language_info": {
   "codemirror_mode": {
    "name": "ipython",
    "version": 3
   },
   "file_extension": ".py",
   "mimetype": "text/x-python",
   "name": "python",
   "nbconvert_exporter": "python",
   "pygments_lexer": "ipython3",
   "version": "3.7.2"
  }
 },
 "nbformat": 4,
 "nbformat_minor": 1
}
